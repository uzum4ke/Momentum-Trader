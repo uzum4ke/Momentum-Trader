{
 "cells": [
  {
   "cell_type": "code",
   "execution_count": 1,
   "id": "722fa81a-3391-469c-8a50-d5fb988dda17",
   "metadata": {
    "jupyter": {
     "source_hidden": true
    },
    "tags": []
   },
   "outputs": [],
   "source": [
    "import numpy as np\n",
    "import pandas as pd\n",
    "import MetaTrader5 as mt5\n",
    "\n",
    "import statsmodels.api as sm\n",
    "from pandas.tseries.offsets import BDay\n",
    "\n",
    "import csv\n",
    "import time\n",
    "import math\n",
    "from datetime import datetime, timedelta\n",
    "\n",
    "import requests\n",
    "import json"
   ]
  },
  {
   "cell_type": "code",
   "execution_count": 2,
   "id": "42e04475-4ab4-45a4-87d0-48ab7167646f",
   "metadata": {
    "jupyter": {
     "source_hidden": true
    },
    "tags": []
   },
   "outputs": [],
   "source": [
    "import matplotlib as mpl\n",
    "import matplotlib.pyplot as plt\n",
    "from matplotlib import cycler\n",
    "\n",
    "colors = cycler('color', ['669FEE', '66EE91', '9988DD', 'EECC55', '88BB44', 'FFBBBB'])\n",
    "plt.rc('figure', facecolor='313233')\n",
    "plt.rc('axes',  facecolor='313233', edgecolor='none', axisbelow=True, grid=True, prop_cycle=colors, labelcolor='gray')\n",
    "plt.rc('grid', color='474A4A', linestyle='solid')\n",
    "plt.rc('xtick', color='gray')\n",
    "plt.rc('ytick', direction='out', color='gray')\n",
    "plt.rc('legend', facecolor='313233', edgecolor='313233')\n",
    "plt.rc('text')"
   ]
  },
  {
   "cell_type": "code",
   "execution_count": 3,
   "id": "feeda2c3-dc2c-4ae8-acef-77aaeaef962f",
   "metadata": {
    "jupyter": {
     "source_hidden": true
    },
    "tags": []
   },
   "outputs": [],
   "source": [
    "# Twitter notification keys\n",
    "\n",
    "chat_id = \"6208180231\"\n",
    "api_key = \"6274819941:AAF8U6FnGv5A0DcSBNXCpnPCJPciwSww8-A\""
   ]
  },
  {
   "cell_type": "code",
   "execution_count": 4,
   "id": "64c98470-14a9-4981-9e18-6b689b4eae40",
   "metadata": {
    "jupyter": {
     "source_hidden": true
    },
    "tags": []
   },
   "outputs": [],
   "source": [
    "def send_telegram_message(message: str, chat_id: str, api_key: str,):\n",
    "    responses = {}\n",
    "\n",
    "    proxies = None\n",
    "    headers = {'Content-Type': 'application/json',\n",
    "                'Proxy-Authorization': 'Basic base64'}\n",
    "    data_dict = {'chat_id': chat_id,\n",
    "                 'text': message,\n",
    "                 'parse_mode': 'HTML',\n",
    "                 'disable_notification': True}\n",
    "    data = json.dumps(data_dict)\n",
    "    url = f'https://api.telegram.org/bot{api_key}/sendMessage'\n",
    "    \n",
    "    requests.packages.urllib3.disable_warnings()\n",
    "    response = requests.post(url,\n",
    "                             data=data,\n",
    "                             headers=headers,\n",
    "                             proxies=proxies,\n",
    "                             verify=False)\n",
    "    return response"
   ]
  },
  {
   "cell_type": "code",
   "execution_count": 5,
   "id": "9bce7a03-8b9a-4995-b0f5-ddeaab326b0f",
   "metadata": {
    "jupyter": {
     "source_hidden": true
    },
    "tags": []
   },
   "outputs": [],
   "source": [
    "def get_bars(symbol, start_date, end_date, timeframe=mt5.TIMEFRAME_M1):\n",
    "    mt5.initialize()\n",
    "    bars = mt5.copy_rates_range(symbol, timeframe, start_date, end_date)\n",
    "    df_bars = pd.DataFrame(bars)\n",
    "    df_bars[\"time\"] = pd.to_datetime(df_bars[\"time\"], unit=\"s\")\n",
    "    return df_bars"
   ]
  },
  {
   "cell_type": "code",
   "execution_count": 6,
   "id": "1c82dff4-08d1-4dce-b479-a90bcf915984",
   "metadata": {
    "jupyter": {
     "source_hidden": true
    },
    "tags": []
   },
   "outputs": [],
   "source": [
    "def get_latest_bar(symbol, timeframe=mt5.TIMEFRAME_M1):\n",
    "    mt5.initialize()\n",
    "    bar = mt5.copy_rates_from(\n",
    "        symbol, \n",
    "        timeframe, \n",
    "        datetime.now(), \n",
    "        1)  # number of bars\n",
    "    df_bar = pd.DataFrame(bar)\n",
    "    df_bar[\"time\"] = pd.to_datetime(df_bar[\"time\"], unit=\"s\")\n",
    "    return df_bar"
   ]
  },
  {
   "cell_type": "code",
   "execution_count": 7,
   "id": "c80f64e9-f174-481f-b3c3-f1aad8209e34",
   "metadata": {
    "jupyter": {
     "source_hidden": true
    },
    "tags": []
   },
   "outputs": [],
   "source": [
    "def get_prices(location):\n",
    "    mt5.initialize()\n",
    "\n",
    "    symbol_list = []\n",
    "    for symbol in mt5.symbols_get():\n",
    "        if location in symbol.path:\n",
    "            symbol_list.append(symbol)\n",
    "            \n",
    "    return symbol_list"
   ]
  },
  {
   "cell_type": "code",
   "execution_count": 8,
   "id": "23e3c6dd-0438-4aeb-ab27-d7b2bea300b7",
   "metadata": {
    "jupyter": {
     "source_hidden": true
    },
    "tags": []
   },
   "outputs": [],
   "source": [
    "def new_bar_event(symbol, last_bar):\n",
    "    mt5.initialize()\n",
    "    \n",
    "    # Fixing a formatting error when getting last_bar['time'].iloc[0]\n",
    "    date_str = last_bar['time'].iloc[0]\n",
    "    date_format = '%Y-%m-%d %H:%M:%S'\n",
    "\n",
    "    last_bar_time_formatted = datetime.strptime(date_str, date_format)\n",
    "    while True:\n",
    "        new_bar = get_latest_bar(symbol)        \n",
    "        if new_bar['time'].iloc[0] != last_bar_time_formatted:\n",
    "            return new_bar\n",
    "        \n",
    "        time.sleep(10)"
   ]
  },
  {
   "cell_type": "code",
   "execution_count": 9,
   "id": "b58743fa-c322-4f73-94bc-828630ff4c8f",
   "metadata": {
    "jupyter": {
     "source_hidden": true
    },
    "tags": []
   },
   "outputs": [],
   "source": [
    "def get_num_of_lots(name, leverage=30, risk=0.01):\n",
    "    ask_per_fraction = (mt5.symbols_get(name)[0].ask * mt5.symbols_get(name)[0].trade_contract_size) * mt5.symbols_get(name)[0].volume_min\n",
    "    ask_per_fraction_m = ask_per_fraction / leverage\n",
    "    capital_at_risk = mt5.account_info().balance * risk\n",
    "    \n",
    "    order_size = math.floor(capital_at_risk / ask_per_fraction_m) * mt5.symbols_get(symbol)[0].volume_min\n",
    "    return  order_size"
   ]
  },
  {
   "cell_type": "code",
   "execution_count": 10,
   "id": "49b21e7a-0dea-446c-ae54-22a9a04540b0",
   "metadata": {
    "jupyter": {
     "source_hidden": true
    },
    "tags": []
   },
   "outputs": [],
   "source": [
    "def find_filling_mode(symbol):\n",
    "    mt5.initialize()\n",
    "    \n",
    "    for i in range(2):\n",
    "        request = {\n",
    "            \"action\": mt5.TRADE_ACTION_DEAL,\n",
    "            \"symbol\": symbol,\n",
    "            \"volume\": mt5.symbol_info(symbol).volume_min,\n",
    "            \"type\": mt5.ORDER_TYPE_BUY,\n",
    "            \"price\": mt5.symbol_info_tick(symbol).ask,\n",
    "            \"type_filling\": i,\n",
    "            \"type_time\": mt5.ORDER_TIME_GTC}\n",
    " \n",
    "        result = mt5.order_check(request)\n",
    "            \n",
    "        if result.comment == \"Done\":\n",
    "            break\n",
    " \n",
    "    return i"
   ]
  },
  {
   "cell_type": "code",
   "execution_count": 11,
   "id": "b145c2cf-09f2-49e6-8b8c-fe3d67220745",
   "metadata": {
    "jupyter": {
     "source_hidden": true
    },
    "tags": []
   },
   "outputs": [],
   "source": [
    "def open_long(name, lot_size):\n",
    "    mt5.initialize()\n",
    "    filling_type = find_filling_mode(name)\n",
    "    request = {\n",
    "            \"action\" : mt5.TRADE_ACTION_DEAL,\n",
    "            \"symbol\" : name,\n",
    "            \"volume\" : lot_size,\n",
    "            \"type\" : mt5.ORDER_TYPE_BUY,   # mt5.ORDER_TYPE_SELL\n",
    "            \"price\" : mt5.symbol_info_tick(name).ask, # mt5.symbol_info_tick(symbol).bid \n",
    "            \"deviation\" : 10,\n",
    "            \"type_filling\" : filling_type,\n",
    "            \"type_time \" : mt5.ORDER_TIME_GTC\n",
    "        }\n",
    "    \n",
    "    result = mt5.order_send(request)\n",
    "    return result"
   ]
  },
  {
   "cell_type": "code",
   "execution_count": 12,
   "id": "8c4ea57b-8f48-40a6-8b0a-9c1c61810f83",
   "metadata": {
    "jupyter": {
     "source_hidden": true
    },
    "tags": []
   },
   "outputs": [],
   "source": [
    "def close_long(name, lot_size, order_id):\n",
    "    mt5.initialize()\n",
    "    filling_type = find_filling_mode(name)\n",
    "    request = {\n",
    "            \"action\" : mt5.TRADE_ACTION_DEAL,\n",
    "            \"symbol\" : name,\n",
    "            \"position\" : order_id,\n",
    "            \"volume\" : lot_size,\n",
    "            \"type\" : mt5.ORDER_TYPE_SELL,\n",
    "            \"price\" : mt5.symbol_info_tick(name).bid, \n",
    "            \"deviation\" : 10,\n",
    "            \"type_filling\" : filling_type,\n",
    "            \"type_time \" : mt5.ORDER_TIME_GTC\n",
    "        }\n",
    "    \n",
    "    result = mt5.order_send(request)\n",
    "    return result"
   ]
  },
  {
   "cell_type": "code",
   "execution_count": 13,
   "id": "4dd8eea7-a58a-40b1-8628-7d28301c4d5e",
   "metadata": {
    "jupyter": {
     "source_hidden": true
    },
    "tags": []
   },
   "outputs": [],
   "source": [
    "def open_short(name, lot_size):\n",
    "    mt5.initialize()\n",
    "    filling_type = find_filling_mode(name)\n",
    "    request = {\n",
    "            \"action\" : mt5.TRADE_ACTION_DEAL,\n",
    "            \"symbol\" : name,\n",
    "            \"volume\" : lot_size,\n",
    "            \"type\" : mt5.ORDER_TYPE_SELL,\n",
    "            \"price\" : mt5.symbol_info_tick(name).bid, \n",
    "            \"deviation\" : 10,\n",
    "            \"type_filling\" : filling_type,\n",
    "            \"type_time \" : mt5.ORDER_TIME_GTC\n",
    "        }\n",
    "    \n",
    "    result = mt5.order_send(request)\n",
    "    return result"
   ]
  },
  {
   "cell_type": "code",
   "execution_count": 14,
   "id": "a6bb4547-86ef-44b4-8219-7f1c2a61e373",
   "metadata": {
    "jupyter": {
     "source_hidden": true
    },
    "tags": []
   },
   "outputs": [],
   "source": [
    "def close_short(name, lot_size, order_id):\n",
    "    mt5.initialize()\n",
    "    filling_type = find_filling_mode(name)\n",
    "    request = {\n",
    "            \"action\" : mt5.TRADE_ACTION_DEAL,\n",
    "            \"symbol\" : name,\n",
    "            \"position\" : order_id,\n",
    "            \"volume\" : lot_size,\n",
    "            \"type\" : mt5.ORDER_TYPE_BUY,   # mt5.ORDER_TYPE_SELL\n",
    "            \"price\" : mt5.symbol_info_tick(name).ask, # mt5.symbol_info_tick(symbol).bid \n",
    "            \"deviation\" : 10,\n",
    "            \"type_filling\" : filling_type,\n",
    "            \"type_time \" : mt5.ORDER_TIME_GTC\n",
    "        }\n",
    "        \n",
    "    result = mt5.order_send(request)   # Sends order to broker\n",
    "    return result  "
   ]
  },
  {
   "cell_type": "code",
   "execution_count": 15,
   "id": "5a1bca86-9bdd-41a7-ad1b-2b7e5a343c27",
   "metadata": {
    "jupyter": {
     "source_hidden": true
    },
    "tags": []
   },
   "outputs": [],
   "source": [
    "# Storing order history\n",
    "def save_to_order_history(result):\n",
    "    order = pd.DataFrame(\n",
    "        columns=[\n",
    "            'retcode',\n",
    "            'deal',\n",
    "            'order',\n",
    "            'volume',\n",
    "            'price',\n",
    "            'bid',\n",
    "            'ask',\n",
    "            'comment',\n",
    "            'request_id',\n",
    "            'retcode_external',\n",
    "            'request.action',\n",
    "            'request.magic',\n",
    "            'request.order',\n",
    "            'request.symbol',\n",
    "            'request.volume',\n",
    "            'request.price',\n",
    "            'request.stoplimit',\n",
    "            'request.sl',\n",
    "            'request.tp',\n",
    "            'request.deviation',\n",
    "            'request.type',\n",
    "            'request.type_filling',\n",
    "            'request.type_time',\n",
    "            'request.expiration',\n",
    "            'request.comment',\n",
    "            'request.position',\n",
    "            'request.position_by'])\n",
    "\n",
    "    new_row = {\n",
    "            'retcode': result.retcode,\n",
    "            'deal': result.deal,\n",
    "            'order': result.order,\n",
    "            'volume': result.volume,\n",
    "            'price': result.price,\n",
    "            'bid': result.bid,\n",
    "            'ask': result.ask,\n",
    "            'comment': result.comment,\n",
    "            'request_id': result.request_id,\n",
    "            'retcode_external': result.retcode_external,\n",
    "            'request.action': result.request.action,\n",
    "            'request.magic': result.request.magic,\n",
    "            'request.order': result.request.order,\n",
    "            'request.symbol': result.request.symbol,\n",
    "            'request.volume': result.request.volume,\n",
    "            'request.price': result.request.price,\n",
    "            'request.stoplimit': result.request.stoplimit,\n",
    "            'request.sl': result.request.sl,\n",
    "            'request.tp': result.request.tp,\n",
    "            'request.deviation': result.request.deviation,\n",
    "            'request.type': result.request.type,\n",
    "            'request.type_filling': result.request.type_filling,\n",
    "            'request.type_time': result.request.type_time,\n",
    "            'request.expiration': result.request.expiration,\n",
    "            'request.comment': result.request.comment,\n",
    "            'request.position': result.request.position,\n",
    "            'request.position_by': result.request.position_by\n",
    "        }\n",
    "\n",
    "    df_new_row = pd.DataFrame([new_row])\n",
    "    current_order = pd.concat([order, df_new_row], ignore_index=True)\n",
    "        \n",
    "    current_order.to_csv('order_history.csv', mode='a', index=False, header=False)\n"
   ]
  },
  {
   "cell_type": "code",
   "execution_count": 16,
   "id": "ad347541-1a8c-4bf6-982b-04f72e2117a5",
   "metadata": {
    "jupyter": {
     "source_hidden": true
    },
    "tags": []
   },
   "outputs": [],
   "source": [
    "def draw_graph(data, fast_ma, upper_threshold, lower_threshold, data_vol, vol_threshold):\n",
    "    \n",
    "    plt.plot(data)\n",
    "    plt.plot(fast_ma, color='r')\n",
    "    plt.plot(upper_threshold, color='y')\n",
    "    plt.plot(lower_threshold, color='y')\n",
    "    plt.show()\n",
    "    \n",
    "    plt.plot(data_vol)\n",
    "    plt.plot(vol_threshold, color='y')\n",
    "    plt.show()\n",
    "    "
   ]
  },
  {
   "cell_type": "code",
   "execution_count": 17,
   "id": "c964d866-4d2c-4efa-b775-012238895065",
   "metadata": {
    "jupyter": {
     "source_hidden": true
    },
    "tags": []
   },
   "outputs": [],
   "source": [
    "def trade_engine(name, lot_size, data):\n",
    "    mt5.initialize()\n",
    "    \n",
    "    # Get close and volume data\n",
    "    data_close = data['close']\n",
    "    data_vol = data['tick_volume']\n",
    "    \n",
    "    # Apply HP filter \n",
    "    try:\n",
    "        filtered_data_close_cycle, filtered_data_close_trend = sm.tsa.filters.hpfilter(data_close)\n",
    "        filtered_data_vol_cycle, filtered_data_vol_trend = sm.tsa.filters.hpfilter(data_vol)\n",
    "    except ValueError:\n",
    "        print(\"HP filter acting funny, skipping.\")\n",
    "        return\n",
    "    \n",
    "    # Construct volume mean and std\n",
    "    window_vol = 100\n",
    "    us500_vol_mean = filtered_data_vol_trend.rolling(window_vol).mean()\n",
    "    us500_vol_std = filtered_data_vol_trend.rolling(window_vol).std()\n",
    "    \n",
    "    # Construct slow MA, slow STD, and fast MA\n",
    "    window_slow = 50\n",
    "    window_fast = 10\n",
    "    slow_ma = filtered_data_close_trend.ewm(span=window_slow).mean()\n",
    "    slow_std = filtered_data_close_trend.ewm(span=window_slow).std()\n",
    "    fast_ma = filtered_data_close_trend.ewm(span=window_fast).mean()\n",
    "    \n",
    "    \n",
    "    # Contruct trade parameters\n",
    "    upper_threshold = slow_ma + (slow_std * 0.3)\n",
    "    lower_threshold = slow_ma - (slow_std * 0.3)\n",
    "        \n",
    "    vol_threshold = us500_vol_mean + (us500_vol_std * 0.3)\n",
    "      \n",
    "    # Position type encoding\n",
    "    LONG = 0\n",
    "    SHORT = 1\n",
    "         \n",
    "    if not mt5.positions_get():\n",
    "        if (fast_ma.iloc[-2] <= upper_threshold.iloc[-2]) and (fast_ma.iloc[-1] >= upper_threshold.iloc[-1]) and data_vol.iloc[-1] >= vol_threshold.iloc[-1]:\n",
    "            # OPEN LONG POSITION\n",
    "            result = open_long(name, lot_size)\n",
    "            save_to_order_history(result)\n",
    "            send_telegram_message(f'Openned Long Positions at: {data_close.iloc[-1]}, Account Balance is {mt5.account_info().balance}.', chat_id, api_key)\n",
    "            print(f'Openned Long Positions at: {data_close.iloc[-1]}, Account Balance is {mt5.account_info().balance}.')\n",
    "            draw_graph(data_close, fast_ma, upper_threshold, lower_threshold, data_vol, vol_threshold)\n",
    "            \n",
    "            \n",
    "\n",
    "        elif (fast_ma.iloc[-2] >= lower_threshold.iloc[-2]) and (fast_ma.iloc[-1] <= lower_threshold.iloc[-1]) and data_vol.iloc[-1] >= vol_threshold.iloc[-1]:\n",
    "            # OPEN SHORT POSITION\n",
    "            result = open_short(name, lot_size)\n",
    "            save_to_order_history(result)\n",
    "            send_telegram_message(f'Openned Short Positions at: {data_close.iloc[-1]}, Account Balance is {mt5.account_info().balance}.', chat_id, api_key)\n",
    "            print(f'Openned Short Positions at: {data_close.iloc[-1]}, Account Balance is {mt5.account_info().balance}.')\n",
    "            draw_graph(data_close, fast_ma, upper_threshold, lower_threshold, data_vol, vol_threshold)\n",
    "            \n",
    "    elif mt5.positions_get():\n",
    "        position_type = mt5.positions_get()[0].type\n",
    "        ticket = mt5.positions_get()[0].ticket\n",
    "        \n",
    "        if position_type == LONG:     \n",
    "            if (fast_ma.iloc[-2] >= slow_ma.iloc[-2]) and (fast_ma.iloc[-1] < slow_ma.iloc[-1]):\n",
    "                # CLOSE LONG POSITION AT A GAIN\n",
    "                result = close_long(name, lot_size, ticket)\n",
    "                save_to_order_history(result)\n",
    "                send_telegram_message(f'Closed Long Positions at: {data_close.iloc[-1]}, Account Balance is {mt5.account_info().balance}.', chat_id, api_key)\n",
    "                print(f'Closed Long Positions at: {data_close.iloc[-1]}, Account Balance is {mt5.account_info().balance}.')\n",
    "                draw_graph(data_close, fast_ma, upper_threshold, lower_threshold, data_vol, vol_threshold)\n",
    "                \n",
    "            elif (mt5.positions_get()[0].price_open - data_close.iloc[-1]) >= 3 * (slow_ma.iloc[-1] + slow_std.iloc[-1]):\n",
    "                # CLOSE LONG POSITION: BLACK SWAN\n",
    "                result = close_long(name, lot_size, ticket)\n",
    "                save_to_order_history(result)\n",
    "                send_telegram_message(f'Black Swanned Long at: {data_close.iloc[-1]}, Account Balance is {mt5.account_info().balance}.', chat_id, api_key)\n",
    "                print(f'Black Swanned Long at: {data_close.iloc[-1]}, Account Balance is {mt5.account_info().balance}.')\n",
    "                draw_graph(data_close, fast_ma, upper_threshold, lower_threshold, data_vol, vol_threshold)\n",
    "                \n",
    "        elif position_type == SHORT:        \n",
    "            if (fast_ma.iloc[-2] <= slow_ma.iloc[-2]) and (fast_ma.iloc[-1] > slow_ma.iloc[-1]):\n",
    "                # CLOSE SHORT POSITION AT A GAIN\n",
    "                result = close_short(name, lot_size, ticket)\n",
    "                save_to_order_history(result)\n",
    "                send_telegram_message(f'Closed Short Positions at: {data_close.iloc[-1]}, Account Balance is {mt5.account_info().balance}.', chat_id, api_key)\n",
    "                print(f'Closed Short Positions at: {data_close.iloc[-1]}, Account Balance is {mt5.account_info().balance}.')\n",
    "                draw_graph(data_close, fast_ma, upper_threshold, lower_threshold, data_vol, vol_threshold)\n",
    "            elif (data_close.iloc[-1] - mt5.positions_get()[0].price_open) >= 3 * (slow_ma.iloc[-1] + slow_std.iloc[-1]):\n",
    "                # CLOSE SHORT POSITION: BLACK SWAN\n",
    "                result = close_short(name, lot_size, ticket)\n",
    "                save_to_order_history(result)\n",
    "                send_telegram_message(f'Black Swanned Short at: {data_close.iloc[-1]}, Account Balance is {mt5.account_info().balance}.', chat_id, api_key)\n",
    "                print(f'Black Swanned Short at: {data_close.iloc[-1]}, Account Balance is {mt5.account_info().balance}.')\n",
    "                draw_graph(data_close, fast_ma, upper_threshold, lower_threshold, data_vol, vol_threshold)"
   ]
  },
  {
   "cell_type": "code",
   "execution_count": 18,
   "id": "afe9b417-70b8-4a58-9e16-290fd4b2183a",
   "metadata": {
    "jupyter": {
     "source_hidden": true
    },
    "tags": []
   },
   "outputs": [],
   "source": [
    "##################################################\n",
    "# Set Parameters\n",
    "\n",
    "end_date = datetime.now()\n",
    "start_date = end_date - BDay(1)\n",
    "\n",
    "mt5.initialize()\n",
    "\n",
    "# MOST IMPORTANT PARAMETERS\n",
    "symbol = 'US500'\n",
    "#lot_size = mt5.symbols_get(symbol)[0].volume_min * 3\n",
    "\n",
    "symbol_csv = symbol + '.csv'\n",
    "\n",
    "##################################################"
   ]
  },
  {
   "cell_type": "code",
   "execution_count": 19,
   "id": "eb084e11-abca-4a24-8b60-8141d9a2574f",
   "metadata": {
    "jupyter": {
     "source_hidden": true
    },
    "tags": []
   },
   "outputs": [],
   "source": [
    "##################################################\n",
    "# Generate a days worth of market data and put it into a csv\n",
    "\n",
    "mt5.initialize()\n",
    "symbol_object = mt5.symbols_get(symbol)\n",
    "symbol_name = symbol_object[0].name\n",
    "\n",
    "symbol_data = get_bars(\n",
    "    symbol_name, \n",
    "    start_date, \n",
    "    end_date)\n",
    "\n",
    "symbol_data.to_csv(symbol_csv, index=False)\n",
    "\n",
    "data = pd.read_csv(symbol_csv)"
   ]
  },
  {
   "cell_type": "code",
   "execution_count": null,
   "id": "4d8ae4dc-9f47-4247-99bf-98f1a2d83f67",
   "metadata": {
    "tags": []
   },
   "outputs": [
    {
     "name": "stdout",
     "output_type": "stream",
     "text": [
      "NEW BAR: 2023-03-20 23:35:00\n"
     ]
    }
   ],
   "source": [
    "##################################################\n",
    "# Trade Loop\n",
    "\n",
    "while True:\n",
    "    last_bar = data.tail(1)\n",
    "    new_bar = new_bar_event(symbol_name, last_bar)\n",
    "    \n",
    "    new_bar.to_csv(symbol_csv, mode='a', index=False, header=False)\n",
    "    data = pd.read_csv(symbol_csv)\n",
    "\n",
    "    lot_size = get_num_of_lots(symbol, leverage=20, risk=0.1)\n",
    "    print(f'NEW BAR: {new_bar[\"time\"].iloc[0]}')\n",
    "    \n",
    "    trade_engine(symbol_name, lot_size, data)\n",
    "    \n",
    "##################################################"
   ]
  },
  {
   "cell_type": "code",
   "execution_count": null,
   "id": "d3400ad0-e65c-4731-88b3-a834420c538a",
   "metadata": {},
   "outputs": [],
   "source": []
  }
 ],
 "metadata": {
  "kernelspec": {
   "display_name": "Python 3 (ipykernel)",
   "language": "python",
   "name": "python3"
  },
  "language_info": {
   "codemirror_mode": {
    "name": "ipython",
    "version": 3
   },
   "file_extension": ".py",
   "mimetype": "text/x-python",
   "name": "python",
   "nbconvert_exporter": "python",
   "pygments_lexer": "ipython3",
   "version": "3.10.10"
  }
 },
 "nbformat": 4,
 "nbformat_minor": 5
}
