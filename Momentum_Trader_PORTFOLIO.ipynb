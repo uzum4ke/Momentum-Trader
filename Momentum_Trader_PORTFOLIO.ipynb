{
 "cells": [
  {
   "cell_type": "code",
   "execution_count": 24,
   "id": "722fa81a-3391-469c-8a50-d5fb988dda17",
   "metadata": {
    "tags": []
   },
   "outputs": [],
   "source": [
    "import numpy as np\n",
    "import pandas as pd\n",
    "import MetaTrader5 as mt5\n",
    "\n",
    "import statsmodels.api as sm\n",
    "from pandas.tseries.offsets import BDay\n",
    "\n",
    "import csv\n",
    "import time\n",
    "import math\n",
    "from datetime import datetime, timedelta\n",
    "\n",
    "import requests\n",
    "import json\n",
    "\n",
    "import threading\n",
    "from threading import Lock\n",
    "\n",
    "from ta.trend import ADXIndicator"
   ]
  },
  {
   "cell_type": "code",
   "execution_count": 2,
   "id": "19cc9f0c-dfd1-4736-a4ce-9ce34df5c2de",
   "metadata": {
    "tags": []
   },
   "outputs": [],
   "source": [
    "def s_print(*a, **b):\n",
    "    \"\"\"Thread safe print function\"\"\"\n",
    "    with s_print_lock:\n",
    "        print(*a, **b)"
   ]
  },
  {
   "cell_type": "code",
   "execution_count": 3,
   "id": "42e04475-4ab4-45a4-87d0-48ab7167646f",
   "metadata": {
    "tags": []
   },
   "outputs": [],
   "source": [
    "import matplotlib as mpl\n",
    "import matplotlib.pyplot as plt\n",
    "from matplotlib import cycler\n",
    "\n",
    "colors = cycler('color', ['669FEE', '66EE91', '9988DD', 'EECC55', '88BB44', 'FFBBBB'])\n",
    "plt.rc('figure', facecolor='313233')\n",
    "plt.rc('axes',  facecolor='313233', edgecolor='none', axisbelow=True, grid=True, prop_cycle=colors, labelcolor='gray')\n",
    "plt.rc('grid', color='474A4A', linestyle='solid')\n",
    "plt.rc('xtick', color='gray')\n",
    "plt.rc('ytick', direction='out', color='gray')\n",
    "plt.rc('legend', facecolor='313233', edgecolor='313233')\n",
    "plt.rc('text')"
   ]
  },
  {
   "cell_type": "code",
   "execution_count": 4,
   "id": "feeda2c3-dc2c-4ae8-acef-77aaeaef962f",
   "metadata": {
    "tags": []
   },
   "outputs": [],
   "source": [
    "# Twitter notification keys\n",
    "\n",
    "chat_id = \"6208180231\"\n",
    "api_key = \"6274819941:AAF8U6FnGv5A0DcSBNXCpnPCJPciwSww8-A\""
   ]
  },
  {
   "cell_type": "code",
   "execution_count": 5,
   "id": "64c98470-14a9-4981-9e18-6b689b4eae40",
   "metadata": {
    "tags": []
   },
   "outputs": [],
   "source": [
    "def send_telegram_message(message: str, chat_id: str, api_key: str,):\n",
    "    responses = {}\n",
    "\n",
    "    proxies = None\n",
    "    headers = {'Content-Type': 'application/json',\n",
    "                'Proxy-Authorization': 'Basic base64'}\n",
    "    data_dict = {'chat_id': chat_id,\n",
    "                 'text': message,\n",
    "                 'parse_mode': 'HTML',\n",
    "                 'disable_notification': True}\n",
    "    data = json.dumps(data_dict)\n",
    "    url = f'https://api.telegram.org/bot{api_key}/sendMessage'\n",
    "    \n",
    "    requests.packages.urllib3.disable_warnings()\n",
    "    response = requests.post(url,\n",
    "                             data=data,\n",
    "                             headers=headers,\n",
    "                             proxies=proxies,\n",
    "                             verify=False)\n",
    "    return response"
   ]
  },
  {
   "cell_type": "code",
   "execution_count": 6,
   "id": "9bce7a03-8b9a-4995-b0f5-ddeaab326b0f",
   "metadata": {
    "tags": []
   },
   "outputs": [],
   "source": [
    "def get_bars(symbol, start_date, end_date, timeframe=mt5.TIMEFRAME_M1):\n",
    "    mt5.initialize()\n",
    "    bars = mt5.copy_rates_range(symbol, timeframe, start_date, end_date)\n",
    "    df_bars = pd.DataFrame(bars)\n",
    "    df_bars[\"time\"] = pd.to_datetime(df_bars[\"time\"], unit=\"s\")\n",
    "    return df_bars"
   ]
  },
  {
   "cell_type": "code",
   "execution_count": 7,
   "id": "1c82dff4-08d1-4dce-b479-a90bcf915984",
   "metadata": {
    "tags": []
   },
   "outputs": [],
   "source": [
    "def get_latest_bar(symbol, timeframe=mt5.TIMEFRAME_M1):\n",
    "    mt5.initialize()\n",
    "    bar = mt5.copy_rates_from(\n",
    "        symbol, \n",
    "        timeframe, \n",
    "        datetime.now() + timedelta(hours = 3), \n",
    "        1)  # number of bars\n",
    "    df_bar = pd.DataFrame(bar)\n",
    "    df_bar[\"time\"] = pd.to_datetime(df_bar[\"time\"], unit=\"s\")\n",
    "    return df_bar"
   ]
  },
  {
   "cell_type": "code",
   "execution_count": 8,
   "id": "c80f64e9-f174-481f-b3c3-f1aad8209e34",
   "metadata": {
    "tags": []
   },
   "outputs": [],
   "source": [
    "def get_prices(location):\n",
    "    mt5.initialize()\n",
    "\n",
    "    symbol_list = []\n",
    "    for symbol in mt5.symbols_get():\n",
    "        if location in symbol.path:\n",
    "            symbol_list.append(symbol)\n",
    "            \n",
    "    return symbol_list"
   ]
  },
  {
   "cell_type": "code",
   "execution_count": 9,
   "id": "23e3c6dd-0438-4aeb-ab27-d7b2bea300b7",
   "metadata": {
    "tags": []
   },
   "outputs": [],
   "source": [
    "def new_bar_event(symbol, last_bar):\n",
    "    mt5.initialize()\n",
    "    \n",
    "    # Fixing a formatting error when getting last_bar['time'].iloc[0]\n",
    "    date_str = last_bar['time'].iloc[0]\n",
    "    date_format = '%Y-%m-%d %H:%M:%S'\n",
    "\n",
    "    last_bar_time_formatted = datetime.strptime(date_str, date_format)\n",
    "    while True:\n",
    "        new_bar = get_latest_bar(symbol)        \n",
    "        if new_bar['time'].iloc[0] != last_bar_time_formatted:\n",
    "            return new_bar\n",
    "        \n",
    "        time.sleep(10)"
   ]
  },
  {
   "cell_type": "code",
   "execution_count": 10,
   "id": "b58743fa-c322-4f73-94bc-828630ff4c8f",
   "metadata": {
    "tags": []
   },
   "outputs": [],
   "source": [
    "def get_num_of_lots(name, leverage=30, risk=0.01):\n",
    "    ask_per_fraction = (mt5.symbols_get(name)[0].ask * mt5.symbols_get(name)[0].trade_contract_size) * mt5.symbols_get(name)[0].volume_min\n",
    "    ask_per_fraction_m = ask_per_fraction / leverage\n",
    "    capital_at_risk = mt5.account_info().balance * risk\n",
    "    \n",
    "    order_size = math.floor(capital_at_risk / ask_per_fraction_m) * mt5.symbols_get(symbol)[0].volume_min\n",
    "    return  order_size"
   ]
  },
  {
   "cell_type": "code",
   "execution_count": 11,
   "id": "49b21e7a-0dea-446c-ae54-22a9a04540b0",
   "metadata": {
    "tags": []
   },
   "outputs": [],
   "source": [
    "def find_filling_mode(symbol):\n",
    "    mt5.initialize()\n",
    "    \n",
    "    for i in range(2):\n",
    "        request = {\n",
    "            \"action\": mt5.TRADE_ACTION_DEAL,\n",
    "            \"symbol\": symbol,\n",
    "            \"volume\": mt5.symbol_info(symbol).volume_min,\n",
    "            \"type\": mt5.ORDER_TYPE_BUY,\n",
    "            \"price\": mt5.symbol_info_tick(symbol).ask,\n",
    "            \"type_filling\": i,\n",
    "            \"type_time\": mt5.ORDER_TIME_GTC}\n",
    " \n",
    "        result = mt5.order_check(request)\n",
    "            \n",
    "        if result.comment == \"Done\":\n",
    "            break\n",
    " \n",
    "    return i"
   ]
  },
  {
   "cell_type": "code",
   "execution_count": 12,
   "id": "b145c2cf-09f2-49e6-8b8c-fe3d67220745",
   "metadata": {
    "tags": []
   },
   "outputs": [],
   "source": [
    "def open_long(name, lot_size):\n",
    "    mt5.initialize()\n",
    "    filling_type = find_filling_mode(name)\n",
    "    request = {\n",
    "            \"action\" : mt5.TRADE_ACTION_DEAL,\n",
    "            \"symbol\" : name,\n",
    "            \"volume\" : lot_size,\n",
    "            \"type\" : mt5.ORDER_TYPE_BUY,   # mt5.ORDER_TYPE_SELL\n",
    "            \"price\" : mt5.symbol_info_tick(name).ask, # mt5.symbol_info_tick(symbol).bid \n",
    "            \"deviation\" : 10,\n",
    "            \"type_filling\" : filling_type,\n",
    "            \"type_time \" : mt5.ORDER_TIME_GTC\n",
    "        }\n",
    "    \n",
    "    result = mt5.order_send(request)\n",
    "    \n",
    "    time.sleep(2)\n",
    "    return result"
   ]
  },
  {
   "cell_type": "code",
   "execution_count": 13,
   "id": "8c4ea57b-8f48-40a6-8b0a-9c1c61810f83",
   "metadata": {
    "tags": []
   },
   "outputs": [],
   "source": [
    "def close_long(name, lot_size, order_id):\n",
    "    mt5.initialize()\n",
    "    filling_type = find_filling_mode(name)\n",
    "    request = {\n",
    "            \"action\" : mt5.TRADE_ACTION_DEAL,\n",
    "            \"symbol\" : name,\n",
    "            \"position\" : order_id,\n",
    "            \"volume\" : lot_size,\n",
    "            \"type\" : mt5.ORDER_TYPE_SELL,\n",
    "            \"price\" : mt5.symbol_info_tick(name).bid, \n",
    "            \"deviation\" : 10,\n",
    "            \"type_filling\" : filling_type,\n",
    "            \"type_time \" : mt5.ORDER_TIME_GTC\n",
    "        }\n",
    "    \n",
    "    result = mt5.order_send(request)\n",
    "    \n",
    "    time.sleep(2)\n",
    "    return result"
   ]
  },
  {
   "cell_type": "code",
   "execution_count": 14,
   "id": "4dd8eea7-a58a-40b1-8628-7d28301c4d5e",
   "metadata": {
    "tags": []
   },
   "outputs": [],
   "source": [
    "def open_short(name, lot_size):\n",
    "    mt5.initialize()\n",
    "    filling_type = find_filling_mode(name)\n",
    "    request = {\n",
    "            \"action\" : mt5.TRADE_ACTION_DEAL,\n",
    "            \"symbol\" : name,\n",
    "            \"volume\" : lot_size,\n",
    "            \"type\" : mt5.ORDER_TYPE_SELL,\n",
    "            \"price\" : mt5.symbol_info_tick(name).bid, \n",
    "            \"deviation\" : 10,\n",
    "            \"type_filling\" : filling_type,\n",
    "            \"type_time \" : mt5.ORDER_TIME_GTC\n",
    "        }\n",
    "    \n",
    "    result = mt5.order_send(request)\n",
    "    \n",
    "    time.sleep(2)\n",
    "    return result"
   ]
  },
  {
   "cell_type": "code",
   "execution_count": 15,
   "id": "a6bb4547-86ef-44b4-8219-7f1c2a61e373",
   "metadata": {
    "tags": []
   },
   "outputs": [],
   "source": [
    "def close_short(name, lot_size, order_id):\n",
    "    mt5.initialize()\n",
    "    filling_type = find_filling_mode(name)\n",
    "    request = {\n",
    "            \"action\" : mt5.TRADE_ACTION_DEAL,\n",
    "            \"symbol\" : name,\n",
    "            \"position\" : order_id,\n",
    "            \"volume\" : lot_size,\n",
    "            \"type\" : mt5.ORDER_TYPE_BUY,   # mt5.ORDER_TYPE_SELL\n",
    "            \"price\" : mt5.symbol_info_tick(name).ask, # mt5.symbol_info_tick(symbol).bid \n",
    "            \"deviation\" : 10,\n",
    "            \"type_filling\" : filling_type,\n",
    "            \"type_time \" : mt5.ORDER_TIME_GTC\n",
    "        }\n",
    "        \n",
    "    result = mt5.order_send(request)   # Sends order to broker\n",
    "    \n",
    "    time.sleep(2)\n",
    "    return result  "
   ]
  },
  {
   "cell_type": "code",
   "execution_count": 16,
   "id": "5b242b59-9f50-406d-85e4-13388f6b1533",
   "metadata": {
    "tags": []
   },
   "outputs": [],
   "source": [
    "def get_ticket(name):\n",
    "    for position in mt5.positions_get():\n",
    "        if position.symbol == name:\n",
    "            return position.ticket\n",
    "        \n",
    "    return"
   ]
  },
  {
   "cell_type": "code",
   "execution_count": 17,
   "id": "57588127-b57d-4315-a1be-634cf05dd5d1",
   "metadata": {
    "tags": []
   },
   "outputs": [],
   "source": [
    "def get_price_open(name):\n",
    "    for position in mt5.positions_get():\n",
    "        if position.symbol == name:\n",
    "            return position.price_open\n",
    "        \n",
    "    return"
   ]
  },
  {
   "cell_type": "code",
   "execution_count": 19,
   "id": "c964d866-4d2c-4efa-b775-012238895065",
   "metadata": {
    "tags": []
   },
   "outputs": [],
   "source": [
    "def trade_engine(name, lot_size, data, position_type):\n",
    "    mt5.initialize()\n",
    "    \n",
    "    # Get close\n",
    "    data_close = data['close']\n",
    "    \n",
    "    filtered_data_close_cycle, filtered_data_close_trend = sm.tsa.filters.hpfilter(data_close)\n",
    "        \n",
    "    # Construct slow MA, slow STD, and fast MA\n",
    "    window_slow = 50\n",
    "    window_fast = 10\n",
    "    slow_ma = filtered_data_close_trend.ewm(span=window_slow).mean()\n",
    "    slow_std = filtered_data_close_trend.ewm(span=window_slow).std()\n",
    "    fast_ma = filtered_data_close_trend.ewm(span=window_fast).mean()\n",
    "    \n",
    "    \n",
    "    # Contruct trade parameters\n",
    "    upper_threshold = slow_ma + (slow_std * 0.3)\n",
    "    lower_threshold = slow_ma - (slow_std * 0.3)\n",
    "        \n",
    "          \n",
    "    # Position type encoding\n",
    "    \n",
    "    LONG = 1\n",
    "    FREE = 0\n",
    "    SHORT = -1\n",
    "      \n",
    "    # If Long\n",
    "    if position_type == LONG:\n",
    "            \n",
    "        if (fast_ma.iloc[-1] <= slow_ma.iloc[-1]):\n",
    "            # CLOSE LONG POSITION AT A GAIN\n",
    "            ticket = get_ticket(name)\n",
    "            result = close_long(name, lot_size, ticket)\n",
    "            send_telegram_message(f'{name}: Closed Long Position: {data_close.iloc[-1]}, Account Balance: {mt5.account_info().balance}.', chat_id, api_key)\n",
    "            position_type = FREE\n",
    "                                \n",
    "    elif position_type == SHORT:        \n",
    "        if (fast_ma.iloc[-1] >= slow_ma.iloc[-1]):\n",
    "            # CLOSE SHORT POSITION AT A GAIN\n",
    "            ticket = get_ticket(name)\n",
    "            result = close_short(name, lot_size, ticket)\n",
    "            send_telegram_message(f'{name}: Closed Short Position: {data_close.iloc[-1]}, Account Balance: {mt5.account_info().balance}.', chat_id, api_key)\n",
    "            position_type = FREE\n",
    "                \n",
    "                \n",
    "    elif position_type == FREE:\n",
    "        # cross above -> long\n",
    "\n",
    "        if (fast_ma.iloc[-1] >= upper_threshold.iloc[-1]):\n",
    "            # OPEN LONG POSITION\n",
    "            result = open_long(name, lot_size)\n",
    "            send_telegram_message(f'{name}: Openned Long Position: {data_close.iloc[-1]}, Account Balance: {mt5.account_info().balance}.', chat_id, api_key)\n",
    "            position_type = LONG\n",
    "                \n",
    "            # cross below -> short\n",
    "        elif (fast_ma.iloc[-1] <= lower_threshold.iloc[-1]):\n",
    "            # OPEN SHORT POSITION\n",
    "            result = open_short(name, lot_size)\n",
    "            send_telegram_message(f'{name}: Openned Short Position: {data_close.iloc[-1]}, Account Balance: {mt5.account_info().balance}.', chat_id, api_key)\n",
    "            position_type = SHORT\n",
    "                \n",
    "    return position_type\n",
    "    "
   ]
  },
  {
   "cell_type": "code",
   "execution_count": 25,
   "id": "145aeb68-8b16-44d6-b896-21a973277a9f",
   "metadata": {
    "tags": []
   },
   "outputs": [],
   "source": [
    "def momentum_trader(params):\n",
    "    \n",
    "    try:\n",
    "        symbol = params[0]\n",
    "        lot_size = params[1]\n",
    "\n",
    "        ##################################################\n",
    "        # Set Parameters\n",
    "\n",
    "        end_date = datetime.now() + timedelta(hours = 3)\n",
    "        start_date = end_date - BDay(1)\n",
    "\n",
    "        mt5.initialize()\n",
    "\n",
    "        symbol_csv = symbol + '.csv'\n",
    "\n",
    "        ##################################################\n",
    "        # Generate a days worth of market data and put it into a csv\n",
    "\n",
    "        symbol_object = mt5.symbols_get(symbol)\n",
    "        symbol_name = symbol_object[0].name\n",
    "\n",
    "        symbol_data = get_bars(\n",
    "            symbol_name, \n",
    "            start_date, \n",
    "            end_date)\n",
    "\n",
    "        symbol_data.to_csv(symbol_csv, index=False)\n",
    "\n",
    "        data = pd.read_csv(symbol_csv)\n",
    "\n",
    "        ##################################################\n",
    "        # Trade Loop\n",
    "\n",
    "        position_type = 0\n",
    "        while True:\n",
    "            last_bar = data.tail(1)\n",
    "            new_bar = new_bar_event(symbol_name, last_bar)\n",
    "\n",
    "            new_bar.to_csv(symbol_csv, mode='a', index=False, header=False)\n",
    "            data = pd.read_csv(symbol_csv)\n",
    "\n",
    "\n",
    "            position_type = trade_engine(symbol_name, lot_size, data, position_type)\n",
    "\n",
    "        ##################################################\n",
    "        \n",
    "    except Exception as e:\n",
    "        logging.error(traceback.format_exc())"
   ]
  },
  {
   "cell_type": "code",
   "execution_count": 21,
   "id": "2bb913af-7c9d-41f6-bbe2-1899b04d5ad2",
   "metadata": {
    "tags": []
   },
   "outputs": [
    {
     "name": "stdout",
     "output_type": "stream",
     "text": [
      "################################################################\n",
      "\t\tBEGINNING BALANCE TODAY: 19854.76\n",
      "################################################################\n",
      "\n"
     ]
    }
   ],
   "source": [
    "s_print_lock = Lock()\n",
    "\n",
    "portfolio = [\n",
    "    ('EURUSD', 0.16),\n",
    "    ('US30', 0.4),\n",
    "    ('ETHUSD', 0.6),\n",
    "    ('Sugar', 900)\n",
    "]\n",
    "\n",
    "\n",
    "# Loop through the list and create a new thread for each item\n",
    "\n",
    "mt5.initialize()\n",
    "print('################################################################')\n",
    "print(f'\\t\\tBEGINNING BALANCE TODAY: {mt5.account_info().balance}')\n",
    "print('################################################################')\n",
    "print()\n",
    "\n",
    "for params in portfolio:\n",
    "    t = threading.Thread(target=momentum_trader, args=(params,))\n",
    "    t.start()\n",
    "    \n",
    "    \n"
   ]
  },
  {
   "cell_type": "code",
   "execution_count": null,
   "id": "b13ad935-d162-42a6-ae1d-2bf70d89f6af",
   "metadata": {},
   "outputs": [],
   "source": []
  }
 ],
 "metadata": {
  "kernelspec": {
   "display_name": "Python 3 (ipykernel)",
   "language": "python",
   "name": "python3"
  },
  "language_info": {
   "codemirror_mode": {
    "name": "ipython",
    "version": 3
   },
   "file_extension": ".py",
   "mimetype": "text/x-python",
   "name": "python",
   "nbconvert_exporter": "python",
   "pygments_lexer": "ipython3",
   "version": "3.10.10"
  }
 },
 "nbformat": 4,
 "nbformat_minor": 5
}
