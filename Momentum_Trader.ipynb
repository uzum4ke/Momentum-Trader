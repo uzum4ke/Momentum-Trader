{
 "cells": [
  {
   "cell_type": "code",
   "execution_count": 1,
   "id": "722fa81a-3391-469c-8a50-d5fb988dda17",
   "metadata": {
    "tags": []
   },
   "outputs": [],
   "source": [
    "import numpy as np\n",
    "import pandas as pd\n",
    "import MetaTrader5 as mt5\n",
    "\n",
    "import statsmodels.api as sm\n",
    "from pandas.tseries.offsets import BDay\n",
    "\n",
    "import csv\n",
    "import time\n",
    "import math\n",
    "from datetime import datetime, timedelta\n",
    "\n",
    "import requests\n",
    "import json\n",
    "\n",
    "from ta.trend import ADXIndicator\n",
    "import pandas_ta as ta\n",
    "\n",
    "import vectorbt as vbt\n",
    "from tqdm import tqdm\n",
    "\n",
    "from multiprocessing import Process"
   ]
  },
  {
   "cell_type": "code",
   "execution_count": 2,
   "id": "42e04475-4ab4-45a4-87d0-48ab7167646f",
   "metadata": {
    "tags": []
   },
   "outputs": [],
   "source": [
    "import matplotlib as mpl\n",
    "import matplotlib.pyplot as plt\n",
    "from matplotlib import cycler\n",
    "\n",
    "colors = cycler('color', ['669FEE', '66EE91', '9988DD', 'EECC55', '88BB44', 'FFBBBB'])\n",
    "plt.rc('figure', facecolor='313233')\n",
    "plt.rc('axes',  facecolor='313233', edgecolor='none', axisbelow=True, grid=True, prop_cycle=colors, labelcolor='gray')\n",
    "plt.rc('grid', color='474A4A', linestyle='solid')\n",
    "plt.rc('xtick', color='gray')\n",
    "plt.rc('ytick', direction='out', color='gray')\n",
    "plt.rc('legend', facecolor='313233', edgecolor='313233')\n",
    "plt.rc('text')"
   ]
  },
  {
   "cell_type": "code",
   "execution_count": 3,
   "id": "feeda2c3-dc2c-4ae8-acef-77aaeaef962f",
   "metadata": {
    "tags": []
   },
   "outputs": [],
   "source": [
    "# Twitter notification keys\n",
    "\n",
    "chat_id = \"6208180231\"\n",
    "api_key = \"6274819941:AAF8U6FnGv5A0DcSBNXCpnPCJPciwSww8-A\""
   ]
  },
  {
   "cell_type": "code",
   "execution_count": 6,
   "id": "64c98470-14a9-4981-9e18-6b689b4eae40",
   "metadata": {
    "tags": []
   },
   "outputs": [],
   "source": [
    "def send_telegram_message(message: str, chat_id: str, api_key: str,):\n",
    "    responses = {}\n",
    "\n",
    "    proxies = None\n",
    "    headers = {'Content-Type': 'application/json',\n",
    "                'Proxy-Authorization': 'Basic base64'}\n",
    "    data_dict = {'chat_id': chat_id,\n",
    "                 'text': message,\n",
    "                 'parse_mode': 'HTML',\n",
    "                 'disable_notification': True}\n",
    "    data = json.dumps(data_dict)\n",
    "    url = f'https://api.telegram.org/bot{api_key}/sendMessage'\n",
    "    \n",
    "    requests.packages.urllib3.disable_warnings()\n",
    "    response = requests.post(url,\n",
    "                             data=data,\n",
    "                             headers=headers,\n",
    "                             proxies=proxies,\n",
    "                             verify=False)\n",
    "    return response"
   ]
  },
  {
   "cell_type": "code",
   "execution_count": 7,
   "id": "9bce7a03-8b9a-4995-b0f5-ddeaab326b0f",
   "metadata": {
    "tags": []
   },
   "outputs": [],
   "source": [
    "def get_bars(symbol, start_date, end_date, timeframe=mt5.TIMEFRAME_M15):\n",
    "    mt5.initialize()\n",
    "    bars = mt5.copy_rates_range(symbol, timeframe, start_date, end_date)\n",
    "    df_bars = pd.DataFrame(bars)\n",
    "    df_bars[\"time\"] = pd.to_datetime(df_bars[\"time\"], unit=\"s\")\n",
    "    return df_bars"
   ]
  },
  {
   "cell_type": "code",
   "execution_count": 8,
   "id": "1c82dff4-08d1-4dce-b479-a90bcf915984",
   "metadata": {
    "tags": []
   },
   "outputs": [],
   "source": [
    "def get_latest_bar(symbol, timeframe=mt5.TIMEFRAME_M15):\n",
    "    mt5.initialize()\n",
    "    bar = mt5.copy_rates_from(\n",
    "        symbol, \n",
    "        timeframe, \n",
    "        datetime.now() + timedelta(hours = 3), \n",
    "        1)  # number of bars\n",
    "    df_bar = pd.DataFrame(bar)\n",
    "    df_bar[\"time\"] = pd.to_datetime(df_bar[\"time\"], unit=\"s\")\n",
    "    return df_bar"
   ]
  },
  {
   "cell_type": "code",
   "execution_count": 9,
   "id": "c80f64e9-f174-481f-b3c3-f1aad8209e34",
   "metadata": {
    "tags": []
   },
   "outputs": [],
   "source": [
    "def get_prices(location):\n",
    "    mt5.initialize()\n",
    "\n",
    "    symbol_list = []\n",
    "    for symbol in mt5.symbols_get():\n",
    "        if location in symbol.path:\n",
    "            symbol_list.append(symbol)\n",
    "            \n",
    "    return symbol_list"
   ]
  },
  {
   "cell_type": "code",
   "execution_count": 10,
   "id": "23e3c6dd-0438-4aeb-ab27-d7b2bea300b7",
   "metadata": {
    "tags": []
   },
   "outputs": [],
   "source": [
    "def new_bar_event(symbol, last_bar):\n",
    "    mt5.initialize()\n",
    "    \n",
    "    # Fixing a formatting error when getting last_bar['time'].iloc[0]\n",
    "    date_str = last_bar['time'].iloc[0]\n",
    "    date_format = '%Y-%m-%d %H:%M:%S'\n",
    "\n",
    "    last_bar_time_formatted = datetime.strptime(date_str, date_format)\n",
    "    while True:\n",
    "        new_bar = get_latest_bar(symbol)        \n",
    "        if new_bar['time'].iloc[0] != last_bar_time_formatted:\n",
    "            return new_bar\n",
    "        \n",
    "        time.sleep(300)"
   ]
  },
  {
   "cell_type": "code",
   "execution_count": 11,
   "id": "b58743fa-c322-4f73-94bc-828630ff4c8f",
   "metadata": {
    "tags": []
   },
   "outputs": [],
   "source": [
    "def get_num_of_lots(name, leverage=30, risk=0.01):\n",
    "    ask_per_fraction = (mt5.symbols_get(name)[0].ask * mt5.symbols_get(name)[0].trade_contract_size) * mt5.symbols_get(name)[0].volume_min\n",
    "    ask_per_fraction_m = ask_per_fraction\n",
    "    capital_at_risk = mt5.account_info().balance * risk\n",
    "    \n",
    "    order_size = math.floor(capital_at_risk / ask_per_fraction_m) * mt5.symbols_get(symbol)[0].volume_min\n",
    "    return  order_size"
   ]
  },
  {
   "cell_type": "code",
   "execution_count": 12,
   "id": "49b21e7a-0dea-446c-ae54-22a9a04540b0",
   "metadata": {
    "tags": []
   },
   "outputs": [],
   "source": [
    "def find_filling_mode(symbol):\n",
    "    mt5.initialize()\n",
    "    \n",
    "    for i in range(2):\n",
    "        request = {\n",
    "            \"action\": mt5.TRADE_ACTION_DEAL,\n",
    "            \"symbol\": symbol,\n",
    "            \"volume\": mt5.symbol_info(symbol).volume_min,\n",
    "            \"type\": mt5.ORDER_TYPE_BUY,\n",
    "            \"price\": mt5.symbol_info_tick(symbol).ask,\n",
    "            \"type_filling\": i,\n",
    "            \"type_time\": mt5.ORDER_TIME_GTC}\n",
    " \n",
    "        result = mt5.order_check(request)\n",
    "            \n",
    "        if result.comment == \"Done\":\n",
    "            break\n",
    " \n",
    "    return i"
   ]
  },
  {
   "cell_type": "code",
   "execution_count": 13,
   "id": "b145c2cf-09f2-49e6-8b8c-fe3d67220745",
   "metadata": {
    "tags": []
   },
   "outputs": [],
   "source": [
    "def open_long(name, lot_size):\n",
    "    mt5.initialize()\n",
    "    filling_type = find_filling_mode(name)\n",
    "    request = {\n",
    "            \"action\" : mt5.TRADE_ACTION_DEAL,\n",
    "            \"symbol\" : name,\n",
    "            \"volume\" : lot_size,\n",
    "            \"type\" : mt5.ORDER_TYPE_BUY,   # mt5.ORDER_TYPE_SELL\n",
    "            \"price\" : mt5.symbol_info_tick(name).ask, # mt5.symbol_info_tick(symbol).bid \n",
    "            \"deviation\" : 10,\n",
    "            \"type_filling\" : filling_type,\n",
    "            \"type_time \" : mt5.ORDER_TIME_GTC\n",
    "        }\n",
    "    \n",
    "    result = mt5.order_send(request)\n",
    "    return result"
   ]
  },
  {
   "cell_type": "code",
   "execution_count": 14,
   "id": "8c4ea57b-8f48-40a6-8b0a-9c1c61810f83",
   "metadata": {
    "tags": []
   },
   "outputs": [],
   "source": [
    "def close_long(name, lot_size, order_id):\n",
    "    mt5.initialize()\n",
    "    filling_type = find_filling_mode(name)\n",
    "    request = {\n",
    "            \"action\" : mt5.TRADE_ACTION_DEAL,\n",
    "            \"symbol\" : name,\n",
    "            \"position\" : order_id,\n",
    "            \"volume\" : lot_size,\n",
    "            \"type\" : mt5.ORDER_TYPE_SELL,\n",
    "            \"price\" : mt5.symbol_info_tick(name).bid, \n",
    "            \"deviation\" : 10,\n",
    "            \"type_filling\" : filling_type,\n",
    "            \"type_time \" : mt5.ORDER_TIME_GTC\n",
    "        }\n",
    "    \n",
    "    result = mt5.order_send(request)\n",
    "    return result"
   ]
  },
  {
   "cell_type": "code",
   "execution_count": 15,
   "id": "4dd8eea7-a58a-40b1-8628-7d28301c4d5e",
   "metadata": {
    "tags": []
   },
   "outputs": [],
   "source": [
    "def open_short(name, lot_size):\n",
    "    mt5.initialize()\n",
    "    filling_type = find_filling_mode(name)\n",
    "    request = {\n",
    "            \"action\" : mt5.TRADE_ACTION_DEAL,\n",
    "            \"symbol\" : name,\n",
    "            \"volume\" : lot_size,\n",
    "            \"type\" : mt5.ORDER_TYPE_SELL,\n",
    "            \"price\" : mt5.symbol_info_tick(name).bid, \n",
    "            \"deviation\" : 10,\n",
    "            \"type_filling\" : filling_type,\n",
    "            \"type_time \" : mt5.ORDER_TIME_GTC\n",
    "        }\n",
    "    \n",
    "    result = mt5.order_send(request)\n",
    "    return result"
   ]
  },
  {
   "cell_type": "code",
   "execution_count": 16,
   "id": "a6bb4547-86ef-44b4-8219-7f1c2a61e373",
   "metadata": {
    "tags": []
   },
   "outputs": [],
   "source": [
    "def close_short(name, lot_size, order_id):\n",
    "    mt5.initialize()\n",
    "    filling_type = find_filling_mode(name)\n",
    "    request = {\n",
    "            \"action\" : mt5.TRADE_ACTION_DEAL,\n",
    "            \"symbol\" : name,\n",
    "            \"position\" : order_id,\n",
    "            \"volume\" : lot_size,\n",
    "            \"type\" : mt5.ORDER_TYPE_BUY,   # mt5.ORDER_TYPE_SELL\n",
    "            \"price\" : mt5.symbol_info_tick(name).ask, # mt5.symbol_info_tick(symbol).bid \n",
    "            \"deviation\" : 10,\n",
    "            \"type_filling\" : filling_type,\n",
    "            \"type_time \" : mt5.ORDER_TIME_GTC\n",
    "        }\n",
    "        \n",
    "    result = mt5.order_send(request)   # Sends order to broker\n",
    "    return result  "
   ]
  },
  {
   "cell_type": "code",
   "execution_count": 17,
   "id": "ad347541-1a8c-4bf6-982b-04f72e2117a5",
   "metadata": {
    "tags": []
   },
   "outputs": [],
   "source": [
    "def draw_graph(data, fast_ma, upper_threshold, lower_threshold):\n",
    "    \n",
    "    #fig, ax = plt.subplots() # fig : figure object, ax : Axes object\n",
    "    plt.figure().set_figwidth(20)\n",
    "    plt.plot(data)\n",
    "    plt.plot(tp, color='r')\n",
    "    plt.plot(upper_threshold, color='y')\n",
    "    ax.set_xlabel('15 min ticks')\n",
    "    ax.set_ylabel('price')\n",
    "    ax.set_title(\"I am compatible with multithreading\")\n",
    "    plt.show()\n",
    "\n",
    "    \n",
    "    \n",
    "    #plt.figure().set_figwidth(20)\n"
   ]
  },
  {
   "cell_type": "code",
   "execution_count": 18,
   "id": "fe7c70f0-84bb-4593-a223-1f2af6af7801",
   "metadata": {
    "tags": []
   },
   "outputs": [],
   "source": [
    "def get_ticket(name):\n",
    "    for position in mt5.positions_get():\n",
    "        if position.symbol == name:\n",
    "            return position.ticket\n",
    "        \n",
    "    return"
   ]
  },
  {
   "cell_type": "code",
   "execution_count": 19,
   "id": "8eb8f4a5-4205-4168-8fbb-255de7daa449",
   "metadata": {
    "tags": []
   },
   "outputs": [],
   "source": [
    "def get_price_open(name):\n",
    "    for position in mt5.positions_get():\n",
    "        if position.symbol == name:\n",
    "            return position.price_open\n",
    "    \n",
    "    return"
   ]
  },
  {
   "cell_type": "code",
   "execution_count": 20,
   "id": "5cc12f7c-3497-4828-8c45-c7820bd11ca1",
   "metadata": {
    "tags": []
   },
   "outputs": [],
   "source": [
    "def so_signal(k, d):\n",
    "    if k > 80 and d > 80 and k < d:\n",
    "        return -1\n",
    "    elif k < 20 and d < 20 and k > d:\n",
    "        return 1\n",
    "    else:\n",
    "        return 0"
   ]
  },
  {
   "cell_type": "code",
   "execution_count": 21,
   "id": "83e45395-9287-4caf-a2a1-fb26d5588b93",
   "metadata": {
    "tags": []
   },
   "outputs": [],
   "source": [
    "def backtest(symbol_data):\n",
    "    symbol_close = symbol_data['close']\n",
    "    \n",
    "    try:\n",
    "        filtered_symbol_close_cycle, filtered_symbol_close_trend = sm.tsa.filters.hpfilter(symbol_close)\n",
    "    except ValueError as ve:\n",
    "        print('Problem with filter')\n",
    "        filtered_symbol_close_trend = symbol_close\n",
    "        \n",
    "      \n",
    "    #window_sslow = 80\n",
    "    window_slow = 40\n",
    "    window_fast = 20\n",
    "    slow_ma = filtered_symbol_close_trend.ewm(span=window_slow).mean()\n",
    "    slow_std = filtered_symbol_close_trend.ewm(span=window_slow).std()\n",
    "    fast_ma = filtered_symbol_close_trend.ewm(span=window_fast).mean()\n",
    "    \n",
    "    k_period = 14\n",
    "    d_period = 3\n",
    "    symbol_data['n_high'] = symbol_data['high'].rolling(k_period).max()\n",
    "    symbol_data['n_low'] = symbol_data['low'].rolling(k_period).max()\n",
    "    symbol_data['%k'] = (symbol_data['close'] - symbol_data['n_low']) * 100 / (symbol_data['n_high'] - symbol_data['n_low'])\n",
    "    symbol_data['%D'] = symbol_data['%k'].rolling(d_period).mean()\n",
    "    so = symbol_data.ta.stoch(high='high', low='low', k=14, d=3, append=True)        \n",
    "    \n",
    "    upper_threshold = slow_ma \n",
    "    lower_threshold = slow_ma\n",
    "    \n",
    "    \n",
    "    entries = [False for i in range(len(symbol_close))]\n",
    "    exits = [False for i in range(len(symbol_close))]\n",
    "    \n",
    "    LONG = 1\n",
    "    SHORT = -1\n",
    "    FREE = 0\n",
    "    position_type = FREE\n",
    "    position_entry = 0\n",
    "    \n",
    "    profit = 0\n",
    "    for t in range(21, len(symbol_close)):\n",
    "        \n",
    "        # If Long\n",
    "        if position_type == LONG:\n",
    "            if (fast_ma.iloc[t] <= slow_ma.iloc[t]):\n",
    "                position_type = FREE\n",
    "                exits[t] = True\n",
    "                profit += (symbol_close.iloc[t] - position_entry)\n",
    "                \n",
    "        elif position_type == SHORT:        \n",
    "            if (fast_ma.iloc[t] >= slow_ma.iloc[t]):\n",
    "                position_type = FREE \n",
    "                exits[t] = True\n",
    "                profit += (position_entry - symbol_close.iloc[t])\n",
    "                \n",
    "        elif position_type == FREE:    \n",
    "            # cross above -> long\n",
    "            if (fast_ma.iloc[t] >= upper_threshold.iloc[t]) and so_signal(so['STOCHk_14_3_3'][t], so['STOCHd_14_3_3'][t]) == LONG:\n",
    "                position_type = LONG\n",
    "                position_entry = symbol_close.iloc[t]\n",
    "                entries[t] = True\n",
    "            \n",
    "            # cross below -> short\n",
    "            elif (fast_ma.iloc[t] <= lower_threshold.iloc[t]) and so_signal(so['STOCHk_14_3_3'][t], so['STOCHd_14_3_3'][t]) == SHORT:\n",
    "                position_type = SHORT\n",
    "                position_entry = symbol_close.iloc[t]\n",
    "                entries[t] = True\n",
    "    \n",
    "    \n",
    "    return entries, exits, profit"
   ]
  },
  {
   "cell_type": "code",
   "execution_count": 22,
   "id": "c964d866-4d2c-4efa-b775-012238895065",
   "metadata": {
    "tags": []
   },
   "outputs": [],
   "source": [
    "def trade_engine(name, lot_size, data, position_type):\n",
    "    \n",
    "    mt5.initialize()\n",
    "    \n",
    "    data_close = data['close']\n",
    "    \n",
    "    \n",
    "    filtered_data_close_cycle, filtered_data_close_trend = sm.tsa.filters.hpfilter(data_close)\n",
    "    \n",
    "    \n",
    "    # Construct slow MA, slow STD, and fast MA\n",
    "    window_slow = 40\n",
    "    window_fast = 20\n",
    "    slow_ma = filtered_data_close_trend.ewm(span=window_slow).mean()\n",
    "    slow_std = filtered_data_close_trend.ewm(span=window_slow).std()\n",
    "    fast_ma = filtered_data_close_trend.ewm(span=window_fast).mean()\n",
    "    \n",
    "    \n",
    "    # Contruct trade parameters\n",
    "    upper_threshold = slow_ma \n",
    "    lower_threshold = slow_ma   \n",
    "      \n",
    "    \n",
    "    k_period = 14\n",
    "    d_period = 3\n",
    "    data['n_high'] = data['high'].rolling(k_period).max()\n",
    "    data['n_low'] = data['low'].rolling(k_period).max()\n",
    "    data['%k'] = (data['close'] - data['n_low']) * 100 / (data['n_high'] - data['n_low'])\n",
    "    data['%D'] = data['%k'].rolling(d_period).mean()\n",
    "    so = data.ta.stoch(high='high', low='low', k=14, d=3, append=True)        \n",
    "    \n",
    "    LONG = 1\n",
    "    FREE = 0\n",
    "    SHORT = -1\n",
    "    \n",
    "    print(f'{namw}: {data.iloc[-1]}')\n",
    "    draw_graph(data_close, fast_ma, upper_threshold, lower_threshold)\n",
    "    time.sleep(1)\n",
    "\n",
    "        \n",
    "    # If Long\n",
    "    if position_type == LONG:\n",
    "        if (fast_ma.iloc[-1] <= slow_ma.iloc[-1]):\n",
    "            ticket = get_ticket(name)\n",
    "            result = close_long(name, lot_size, ticket)\n",
    "            send_telegram_message(f'{name}: Closed Long Positions at: {data_close.iloc[-1]}, Account Balance is {mt5.account_info().balance}.', chat_id, api_key)\n",
    "            print(f'{name}: Closed Long Positions at: {data_close.iloc[-1]}, Account Balance is {mt5.account_info().balance}.')\n",
    "            position_type = FREE\n",
    "\n",
    "    elif position_type == SHORT:        \n",
    "        if (fast_ma.iloc[-1] >= slow_ma.iloc[-1]):\n",
    "            # CLOSE SHORT POSITION AT A GAIN\n",
    "            ticket = get_ticket(name)\n",
    "            result = close_short(name, lot_size, ticket)\n",
    "            send_telegram_message(f'{name}: Closed Short Positions at: {data_close.iloc[-1]}, Account Balance is {mt5.account_info().balance}.', chat_id, api_key)\n",
    "            print(f'{name}: Closed Short Positions at: {data_close.iloc[-1]}, Account Balance is {mt5.account_info().balance}.')\n",
    "            position_type = FREE\n",
    "\n",
    "    elif position_type == FREE:    \n",
    "        # cross above -> long\n",
    "        if (fast_ma.iloc[-1] >= upper_threshold.iloc[-1]) and so_signal(so['STOCHk_14_3_3'].iloc[-1], so['STOCHd_14_3_3'].iloc[-1]) == LONG:\n",
    "            # OPEN LONG POSITION\n",
    "            result = open_long(name, lot_size)\n",
    "            send_telegram_message(f'{name}: Openned Long Positions at: {data_close.iloc[-1]}, Account Balance is {mt5.account_info().balance}.', chat_id, api_key)\n",
    "            print(f'{name}: Openned Long Positions at: {data_close.iloc[-1]}, Account Balance is {mt5.account_info().balance}.')\n",
    "            position_type = LONG\n",
    "\n",
    "        # cross below -> short\n",
    "        elif (fast_ma.iloc[-1] <= lower_threshold.iloc[-1]) and so_signal(so['STOCHk_14_3_3'].iloc[-1], so['STOCHd_14_3_3'].iloc[-1]) == SHORT:\n",
    "            result = open_short(name, lot_size)\n",
    "            send_telegram_message(f'{name}: Openned Short Positions at: {data_close.iloc[-1]}, Account Balance is {mt5.account_info().balance}.', chat_id, api_key)\n",
    "            print(f'{name}: Openned Short Positions at: {data_close.iloc[-1]}, Account Balance is {mt5.account_info().balance}.')\n",
    "            position_type = SHORT\n",
    "\n",
    "    return position_type\n",
    "    "
   ]
  },
  {
   "cell_type": "code",
   "execution_count": 23,
   "id": "83e6adc6-50fe-4cee-a227-e71bd62b4f41",
   "metadata": {
    "tags": []
   },
   "outputs": [],
   "source": [
    "def momentum_trader(symbol_name):\n",
    "    \n",
    "    end_date = datetime.now() + timedelta(hours = 3)\n",
    "    start_date = end_date - BDay(252)\n",
    "    \n",
    "    mt5.initialize()\n",
    "    symbol_object = mt5.symbols_get(symbol_name)\n",
    "    \n",
    "    symbol_csv = symbol_name + '.csv'\n",
    "\n",
    "    data = get_bars(\n",
    "        symbol_name, \n",
    "        start_date, \n",
    "        end_date)\n",
    "\n",
    "    data.to_csv(symbol_csv, index=False)\n",
    "\n",
    "    data = pd.read_csv(symbol_csv)\n",
    "    \n",
    "    position_type = 0\n",
    "    while True:\n",
    "        last_bar = data.tail(1)\n",
    "        new_bar = new_bar_event(symbol_name, last_bar)\n",
    "\n",
    "        new_bar.to_csv(symbol_csv, mode='a', index=False, header=False)\n",
    "        data = pd.read_csv(symbol_csv)\n",
    "\n",
    "        lot_size = get_num_of_lots(symbol, risk=0.02)\n",
    "        \n",
    "        print(f'NEW BAR: {new_bar[\"time\"].iloc[0]}')\n",
    "        position_type = trade_engine(symbol_name, lot_size, data, position_type)\n",
    "\n",
    "    "
   ]
  },
  {
   "cell_type": "code",
   "execution_count": 24,
   "id": "afe9b417-70b8-4a58-9e16-290fd4b2183a",
   "metadata": {
    "tags": []
   },
   "outputs": [
    {
     "name": "stderr",
     "output_type": "stream",
     "text": [
      " 80%|██████████████████████████████████████████████████████████████▎               | 968/1211 [00:04<00:01, 196.38it/s]"
     ]
    },
    {
     "name": "stdout",
     "output_type": "stream",
     "text": [
      "MSCI_Argentina_ETF_(AGT.N)\n",
      "\n"
     ]
    },
    {
     "name": "stderr",
     "output_type": "stream",
     "text": [
      " 85%|██████████████████████████████████████████████████████████████████▎           | 1030/1211 [00:15<00:27,  6.68it/s]"
     ]
    },
    {
     "name": "stdout",
     "output_type": "stream",
     "text": [
      "Lithium_ETF_(LIT.P)\n",
      "\n"
     ]
    },
    {
     "name": "stderr",
     "output_type": "stream",
     "text": [
      " 85%|██████████████████████████████████████████████████████████████████▌           | 1033/1211 [00:16<00:27,  6.48it/s]"
     ]
    },
    {
     "name": "stdout",
     "output_type": "stream",
     "text": [
      "VanEck_Agribusiness_(MOO.P)\n",
      "\n"
     ]
    },
    {
     "name": "stderr",
     "output_type": "stream",
     "text": [
      " 86%|██████████████████████████████████████████████████████████████████▊           | 1038/1211 [00:17<00:26,  6.65it/s]"
     ]
    },
    {
     "name": "stdout",
     "output_type": "stream",
     "text": [
      "iShares_US_Prf_Stock_(PFF.P)\n",
      "\n"
     ]
    },
    {
     "name": "stderr",
     "output_type": "stream",
     "text": [
      " 86%|██████████████████████████████████████████████████████████████████▉           | 1040/1211 [00:17<00:27,  6.26it/s]"
     ]
    },
    {
     "name": "stdout",
     "output_type": "stream",
     "text": [
      "Problem with filter\n"
     ]
    },
    {
     "name": "stderr",
     "output_type": "stream",
     "text": [
      " 86%|███████████████████████████████████████████████████████████████████▏          | 1043/1211 [00:21<02:02,  1.37it/s]"
     ]
    },
    {
     "name": "stdout",
     "output_type": "stream",
     "text": [
      "Dividend_ETF_(SDY.P)\n",
      "\n"
     ]
    },
    {
     "name": "stderr",
     "output_type": "stream",
     "text": [
      " 86%|███████████████████████████████████████████████████████████████████▎          | 1045/1211 [00:22<01:10,  2.34it/s]"
     ]
    },
    {
     "name": "stdout",
     "output_type": "stream",
     "text": [
      "iShares_Short_T-Bond_(SHV.O)\n",
      "\n"
     ]
    },
    {
     "name": "stderr",
     "output_type": "stream",
     "text": [
      " 87%|███████████████████████████████████████████████████████████████████▌          | 1049/1211 [00:22<00:36,  4.47it/s]"
     ]
    },
    {
     "name": "stdout",
     "output_type": "stream",
     "text": [
      "iShares_Semicond._(SOXX.O)\n",
      "\n"
     ]
    },
    {
     "name": "stderr",
     "output_type": "stream",
     "text": [
      "100%|██████████████████████████████████████████████████████████████████████████████| 1211/1211 [00:27<00:00, 44.24it/s]\n"
     ]
    }
   ],
   "source": [
    "##################################################\n",
    "# Set Parameters\n",
    "\n",
    "end_date = datetime.now() + timedelta(hours = 3)\n",
    "start_date = end_date - BDay(252)\n",
    "\n",
    "\n",
    "mt5.initialize()\n",
    "\n",
    "location = \"Retail\\\\ETFs\"\n",
    "\n",
    "momentum_symbols = []\n",
    "\n",
    "for symbol in tqdm(mt5.symbols_get()):\n",
    "    if location in symbol.path:\n",
    "        \n",
    "        \n",
    "        data = get_bars(symbol.name, start_date, end_date)\n",
    "        time_series = data['close'] \n",
    "\n",
    "        entries, exits, profit = backtest(data)\n",
    "        so_pf = vbt.Portfolio.from_signals(data['close'], entries=entries, exits=exits, freq='15m')\n",
    "                                           \n",
    "        if so_pf.sharpe_ratio() > 2:\n",
    "            print(symbol.name)\n",
    "            \n",
    "            #print(so_pf.stats())\n",
    "            momentum_symbols.append(symbol.name)                               \n",
    "            print()\n",
    "     \n",
    "\n",
    "for symbol_name in momentum_symbols:\n",
    "    trader = Process(target=momentum_trader, args=(symbol_name,))\n",
    "    trader.start()\n",
    "    time.sleep(2)\n",
    "\n",
    "# MOST IMPORTANT PARAMETERS\n",
    "\n",
    "\n",
    "\n",
    "##################################################"
   ]
  },
  {
   "cell_type": "code",
   "execution_count": null,
   "id": "dff456d6-52b0-4bda-bb3a-a857d5c6b5d5",
   "metadata": {},
   "outputs": [],
   "source": []
  },
  {
   "cell_type": "code",
   "execution_count": null,
   "id": "d8281212-3225-49e3-b54b-b1c47b82d183",
   "metadata": {},
   "outputs": [],
   "source": []
  }
 ],
 "metadata": {
  "kernelspec": {
   "display_name": "Python 3 (ipykernel)",
   "language": "python",
   "name": "python3"
  },
  "language_info": {
   "codemirror_mode": {
    "name": "ipython",
    "version": 3
   },
   "file_extension": ".py",
   "mimetype": "text/x-python",
   "name": "python",
   "nbconvert_exporter": "python",
   "pygments_lexer": "ipython3",
   "version": "3.10.10"
  }
 },
 "nbformat": 4,
 "nbformat_minor": 5
}
